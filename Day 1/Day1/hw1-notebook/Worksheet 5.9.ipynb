{
 "cells": [
  {
   "cell_type": "code",
   "execution_count": 1,
   "id": "ordered-baseball",
   "metadata": {},
   "outputs": [],
   "source": [
    "from pandas import read_csv\n",
    "import numpy as np\n",
    "from sklearn.linear_model import Lasso\n",
    "from sklearn.linear_model import LassoCV\n",
    "from sklearn.model_selection import train_test_split\n",
    "from yellowbrick.regressor.alphas import alphas"
   ]
  },
  {
   "cell_type": "code",
   "execution_count": 2,
   "id": "domestic-packing",
   "metadata": {},
   "outputs": [
    {
     "name": "stdout",
     "output_type": "stream",
     "text": [
      "Shape of the mystery data:\n",
      " (101, 101)\n",
      "\n",
      "Head of the mystery data:\n",
      "        0        1        2        3        4        5        6        7    \\\n",
      "0  0.63311 -1.71313 -0.48056 -0.32540 -0.05102  0.05634 -1.63462 -0.58081   \n",
      "1  0.82710 -0.45099  0.62209 -0.24694  0.53069  0.84492  0.37463 -0.61650   \n",
      "2 -0.25135 -0.22821 -0.65147  0.52365 -0.58971  0.02787  0.27812  0.21289   \n",
      "3  0.46192  0.16546  2.87388 -0.65411  0.76601  1.54346 -1.08101 -1.00728   \n",
      "4 -1.50107  2.05339  0.03820  0.27116 -0.07920 -0.53648  0.32249 -0.57844   \n",
      "\n",
      "       8        9    ...      91       92       93       94       95   \\\n",
      "0  0.70627 -2.06938  ...  0.69346  0.49371 -0.15578  1.02650  0.48640   \n",
      "1 -0.00887  0.51328  ...  1.12702  0.53821  1.69800  0.65812  0.18004   \n",
      "2  1.08754 -0.28801  ... -0.08484  0.00259  1.98580  0.39629 -1.37305   \n",
      "3 -0.01883  0.41995  ...  0.72389  1.27442 -0.69487  0.47128  0.54426   \n",
      "4 -0.66211 -0.73749  ...  0.07916 -0.34523  1.09813  1.78102 -1.06170   \n",
      "\n",
      "       96       97       98       99       100  \n",
      "0  0.32758 -2.28887 -0.00430 -0.39673 -6.07560  \n",
      "1  0.31097  0.42096  0.43610 -0.09575  4.03525  \n",
      "2  1.66343 -1.25645 -0.41212  0.78800 -3.57768  \n",
      "3  1.18577  0.00389  0.90909  1.44143 -1.01789  \n",
      "4 -1.74101  1.96249 -0.86213 -1.88139  4.54025  \n",
      "\n",
      "[5 rows x 101 columns]\n"
     ]
    }
   ],
   "source": [
    "# Load dataset\n",
    "dataframe = read_csv('mystery.dat', header = None, sep = ',')\n",
    "\n",
    "print('Shape of the mystery data:\\n', dataframe.shape)\n",
    "print('\\nHead of the mystery data:\\n', dataframe.head())"
   ]
  },
  {
   "cell_type": "code",
   "execution_count": 3,
   "id": "comparative-convert",
   "metadata": {},
   "outputs": [],
   "source": [
    "# Separate features from labels \n",
    "data = dataframe.values\n",
    "X, y = data[:, :-1], data[:, -1]\n",
    "\n",
    "# Divide into training and test set \n",
    "x_train,x_test,y_train,y_test = train_test_split(X,y, random_state = 3, test_size = 0.2)"
   ]
  },
  {
   "cell_type": "code",
   "execution_count": 4,
   "id": "synthetic-truck",
   "metadata": {},
   "outputs": [
    {
     "data": {
      "image/png": "[encoded data removed]",
      "text/plain": [
       "<Figure size 576x396 with 1 Axes>"
      ]
     },
     "metadata": {},
     "output_type": "display_data"
    },
    {
     "data": {
      "text/plain": [
       "AlphaSelection(ax=<AxesSubplot:title={'center':'LassoCV Alpha Error'}, xlabel='alpha', ylabel='error (or score)'>,\n",
       "               estimator=LassoCV(random_state=0))"
      ]
     },
     "execution_count": 4,
     "metadata": {},
     "output_type": "execute_result"
    }
   ],
   "source": [
    "# Find the best alpha\n",
    "alphas(LassoCV(random_state = 0), X, y)"
   ]
  },
  {
   "cell_type": "code",
   "execution_count": 5,
   "id": "aquatic-egyptian",
   "metadata": {},
   "outputs": [
    {
     "name": "stdout",
     "output_type": "stream",
     "text": [
      "Lasso score:\n",
      " 0.43029417215164845\n",
      "\n",
      "Lasso coefficients:\n",
      " [-0.          0.62526249  0.44797675 -0.          0.69402542  0.\n",
      "  0.77809284  0.         -0.          0.          0.35679046  0.\n",
      "  0.01922474 -0.         -0.          0.          0.02210121  0.\n",
      "  0.3265981  -0.          0.          0.          0.73002793 -0.\n",
      "  0.         -0.          0.3514545   0.          0.          0.\n",
      "  0.         -0.         -0.         -0.          0.          0.\n",
      " -0.         -0.         -0.         -0.         -0.         -0.\n",
      "  0.         -0.         -0.         -0.          0.          0.\n",
      "  0.         -0.         -0.          0.          0.         -0.\n",
      " -0.          0.          0.          0.          0.         -0.\n",
      "  0.          0.         -0.         -0.         -0.         -0.\n",
      " -0.          0.          0.          0.         -0.          0.\n",
      " -0.          0.         -0.          0.         -0.         -0.\n",
      " -0.         -0.          0.          0.          0.         -0.\n",
      "  0.          0.          0.          0.         -0.          0.\n",
      " -0.         -0.          0.          0.          0.          0.\n",
      " -0.          0.         -0.          0.        ]\n"
     ]
    }
   ],
   "source": [
    "# Evaluate an lasso regression model on the dataset\n",
    "# When I apply the best alpha value 0.117 above, it only select 7 features.\n",
    "# So here, I modified the alpha value to fit the requirement of this question for 10 features.\n",
    "lasso = Lasso(alpha = 0.07, normalize = True)\n",
    "lasso.fit(x_train,y_train)\n",
    "predict = lasso.predict(x_test)\n",
    "\n",
    "print('Lasso score:\\n',lasso.score(x_test,y_test))\n",
    "print('\\nLasso coefficients:\\n',lasso.coef_)"
   ]
  },
  {
   "cell_type": "markdown",
   "id": "optical-response",
   "metadata": {},
   "source": [
    "### (a) Explain your strategy in one or two sentences. Hint: you will find it helpful to look over the routines in sklearn.linear model."
   ]
  },
  {
   "cell_type": "markdown",
   "id": "israeli-table",
   "metadata": {},
   "source": [
    "For this question, I will use Lasso regression model to select features, which is a regression method that involves penalizing the absolute size of the regression coefficients. By penalizing, we end up in a situation where some of the parameter estimates may be exactly zero, so the larger the penalty applied, the further estimates are shrunk towards zero."
   ]
  },
  {
   "cell_type": "markdown",
   "id": "sapphire-startup",
   "metadata": {},
   "source": [
    "### (b) Which ten features did you identify? You need only give their coordinate numbers, from 1 to 100."
   ]
  },
  {
   "cell_type": "code",
   "execution_count": 6,
   "id": "primary-locator",
   "metadata": {},
   "outputs": [
    {
     "name": "stdout",
     "output_type": "stream",
     "text": [
      "Coordinate numbers for ten features:\n",
      " [ 2  3  5  7 11 13 17 19 23 27]\n"
     ]
    }
   ],
   "source": [
    "# Find the coordinate numbers\n",
    "num = np.where(lasso.coef_ != 0)\n",
    "\n",
    "# Since the coordinate numbers are from 1 to 100, not the index 0 to 99,\n",
    "# so I add one to the num[0].\n",
    "print('Coordinate numbers for ten features:\\n', num[0] + 1)"
   ]
  },
  {
   "cell_type": "code",
   "execution_count": null,
   "id": "pointed-intervention",
   "metadata": {},
   "outputs": [],
   "source": []
  }
 ],
 "metadata": {
  "kernelspec": {
   "display_name": "Python 3",
   "language": "python",
   "name": "python3"
  },
  "language_info": {
   "codemirror_mode": {
    "name": "ipython",
    "version": 3
   },
   "file_extension": ".py",
   "mimetype": "text/x-python",
   "name": "python",
   "nbconvert_exporter": "python",
   "pygments_lexer": "ipython3",
   "version": "3.8.2"
  }
 },
 "nbformat": 4,
 "nbformat_minor": 5
}
