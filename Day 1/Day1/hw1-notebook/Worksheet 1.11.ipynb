{
 "cells": [
  {
   "cell_type": "code",
   "execution_count": 1,
   "id": "existing-participation",
   "metadata": {},
   "outputs": [],
   "source": [
    "import numpy as np\n",
    "from sklearn.metrics import confusion_matrix"
   ]
  },
  {
   "cell_type": "code",
   "execution_count": 2,
   "id": "russian-democrat",
   "metadata": {},
   "outputs": [],
   "source": [
    "# Load data set and code labels as 0 = ’NO’, 1 = ’DH’, 2 = ’SL’\n",
    "labels = [b'NO', b'DH', b'SL']\n",
    "data = np.loadtxt('spine-data.txt', converters = {6: lambda s: labels.index(s)})"
   ]
  },
  {
   "cell_type": "code",
   "execution_count": 3,
   "id": "attached-think",
   "metadata": {},
   "outputs": [],
   "source": [
    "# Separate features from labels \n",
    "X = data[:,0:6]\n",
    "y = data[:,6]\n",
    "\n",
    "# Split the data into a training set, consisting of the first 250 points,\n",
    "# and a test set, consisting of the remaining 60 points.\n",
    "train_data = X[list(range(0,250)),:]\n",
    "train_label = y[list(range(0,250))]\n",
    "test_data = X[list(range(250,310)),:]\n",
    "test_label = y[list(range(250,310))]"
   ]
  },
  {
   "cell_type": "code",
   "execution_count": 4,
   "id": "burning-commons",
   "metadata": {},
   "outputs": [],
   "source": [
    "def distance_L1(x, y):\n",
    "    return np.sum(np.abs(x-y))\n",
    "\n",
    "def square_distance_L2(x, y):\n",
    "    return np.sum(np.square(x-y))\n",
    "\n",
    "def predict(x, y):\n",
    "    return y[np.argmin(x)]\n",
    "\n",
    "def NN_Classifier_L1(trainx, trainy, testx):\n",
    "    testy_L1 = []\n",
    "    for i in range(len(testx)):\n",
    "        distance = [distance_L1(testx[i], trainx[j]) for j in range(len(trainx))]\n",
    "        test_predicted = predict(distance, trainy)\n",
    "        testy_L1.append(test_predicted)\n",
    "    return np.asarray(testy_L1)\n",
    "\n",
    "def NN_Classifier_L2(trainx, trainy, testx):\n",
    "    testy_L2 = []\n",
    "    for i in range(len(testx)):\n",
    "        distance = [square_distance_L2(testx[i], trainx[j]) for j in range(len(trainx))]\n",
    "        test_predicted = predict(distance, trainy)\n",
    "        testy_L2.append(test_predicted)\n",
    "    return np.asarray(testy_L2)\n",
    "\n",
    "def error_rate(testy, testy_fit):\n",
    "    return float(sum(testy != testy_fit))/len(testy) "
   ]
  },
  {
   "cell_type": "markdown",
   "id": "urban-astronomy",
   "metadata": {},
   "source": [
    "### (a) What error rates do you get on the test set for each of the two distance functions?"
   ]
  },
  {
   "cell_type": "code",
   "execution_count": 5,
   "id": "warming-position",
   "metadata": {},
   "outputs": [
    {
     "name": "stdout",
     "output_type": "stream",
     "text": [
      "Error rate of NN_Classifier_L1:\n",
      " 0.21666666666666667\n",
      "\n",
      "Error rate of NN_Classifier_L2:\n",
      " 0.23333333333333334\n"
     ]
    }
   ],
   "source": [
    "test_label_L1 = NN_Classifier_L1(train_data, train_label, test_data)\n",
    "test_label_L2 = NN_Classifier_L2(train_data, train_label, test_data)\n",
    "\n",
    "error_L1 = error_rate(test_label, test_label_L1)\n",
    "error_L2 = error_rate(test_label, test_label_L2)\n",
    "\n",
    "print(\"Error rate of NN_Classifier_L1:\\n\", error_L1)\n",
    "print(\"\\nError rate of NN_Classifier_L2:\\n\", error_L2)"
   ]
  },
  {
   "cell_type": "markdown",
   "id": "intensive-biology",
   "metadata": {},
   "source": [
    "### (b) For each of the two distance functions, give the confusion matrix of the NN classifier. "
   ]
  },
  {
   "cell_type": "code",
   "execution_count": 6,
   "id": "recorded-warner",
   "metadata": {},
   "outputs": [
    {
     "name": "stdout",
     "output_type": "stream",
     "text": [
      "Confusion matrix of nearest neighbor classifier L1:\n",
      " [[14  0  2]\n",
      " [ 9  9  0]\n",
      " [ 1  1 24]]\n"
     ]
    }
   ],
   "source": [
    "print('Confusion matrix of nearest neighbor classifier L1:\\n', confusion_matrix(test_label, test_label_L1))"
   ]
  },
  {
   "cell_type": "code",
   "execution_count": 7,
   "id": "regional-attitude",
   "metadata": {},
   "outputs": [
    {
     "name": "stdout",
     "output_type": "stream",
     "text": [
      "Confusion matrix of nearest neighbor classifier L2:\n",
      " [[12  1  3]\n",
      " [ 9  9  0]\n",
      " [ 1  0 25]]\n"
     ]
    }
   ],
   "source": [
    "print('Confusion matrix of nearest neighbor classifier L2:\\n', confusion_matrix(test_label, test_label_L2))"
   ]
  },
  {
   "cell_type": "code",
   "execution_count": null,
   "id": "viral-peeing",
   "metadata": {},
   "outputs": [],
   "source": []
  }
 ],
 "metadata": {
  "kernelspec": {
   "display_name": "Python 3",
   "language": "python",
   "name": "python3"
  },
  "language_info": {
   "codemirror_mode": {
    "name": "ipython",
    "version": 3
   },
   "file_extension": ".py",
   "mimetype": "text/x-python",
   "name": "python",
   "nbconvert_exporter": "python",
   "pygments_lexer": "ipython3",
   "version": "3.8.2"
  }
 },
 "nbformat": 4,
 "nbformat_minor": 5
}
