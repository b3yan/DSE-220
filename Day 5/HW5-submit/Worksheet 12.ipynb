{
 "cells": [
  {
   "cell_type": "markdown",
   "id": "5eb49b6e",
   "metadata": {},
   "source": [
    "# 2"
   ]
  },
  {
   "cell_type": "code",
   "execution_count": 1,
   "id": "eea96c83",
   "metadata": {},
   "outputs": [],
   "source": [
    "import numpy as np\n",
    "import numpy.linalg as la\n",
    "import matplotlib.pyplot as pt"
   ]
  },
  {
   "cell_type": "code",
   "execution_count": 2,
   "id": "49a90c8f",
   "metadata": {},
   "outputs": [],
   "source": [
    "u = [[1,0,0,0],[0,0,0,1],[0,0,1,0],[0,1,0,0]]\n",
    "u_1 = [[1,0],[0,0],[0,0],[0,1]]"
   ]
  },
  {
   "cell_type": "code",
   "execution_count": 3,
   "id": "272df0a0",
   "metadata": {},
   "outputs": [],
   "source": [
    "s = [[4,0,0,0],[0,3,0,0],[0,0,2,0],[0,0,0,1]]\n",
    "s_1 = [[4,0],[0,3]]"
   ]
  },
  {
   "cell_type": "code",
   "execution_count": 4,
   "id": "54364808",
   "metadata": {},
   "outputs": [],
   "source": [
    "v = [[1,0,0,0,0],[0,1,0,0,0],[0,0,1,0,0],[0,0,0,1,0]]\n",
    "v_1 = [[1,0,0,0,0],[0,1,0,0,0]]"
   ]
  },
  {
   "cell_type": "code",
   "execution_count": 5,
   "id": "90a154b4",
   "metadata": {},
   "outputs": [
    {
     "data": {
      "text/plain": [
       "array([[4, 0, 0, 0, 0],\n",
       "       [0, 0, 0, 0, 0],\n",
       "       [0, 0, 0, 0, 0],\n",
       "       [0, 3, 0, 0, 0]])"
      ]
     },
     "execution_count": 5,
     "metadata": {},
     "output_type": "execute_result"
    }
   ],
   "source": [
    "#t = np.dot(u_1,s_1)\n",
    "M = np.dot(np.dot(u_1,s_1), v_1)\n",
    "M"
   ]
  },
  {
   "cell_type": "markdown",
   "id": "cea386f8",
   "metadata": {},
   "source": [
    "# 3(a)"
   ]
  },
  {
   "cell_type": "code",
   "execution_count": 6,
   "id": "52804afd",
   "metadata": {},
   "outputs": [],
   "source": [
    "X = [[1,2,3],[4,5,6]]"
   ]
  },
  {
   "cell_type": "code",
   "execution_count": 7,
   "id": "73a5e99c",
   "metadata": {},
   "outputs": [],
   "source": [
    "U, sigma, VT = la.svd(X, full_matrices=0)"
   ]
  },
  {
   "cell_type": "code",
   "execution_count": 8,
   "id": "bf7aee69",
   "metadata": {},
   "outputs": [
    {
     "data": {
      "text/plain": [
       "array([-0.3863177 , -0.92236578])"
      ]
     },
     "execution_count": 8,
     "metadata": {},
     "output_type": "execute_result"
    }
   ],
   "source": [
    "U[0]"
   ]
  },
  {
   "cell_type": "code",
   "execution_count": 9,
   "id": "af09203d",
   "metadata": {},
   "outputs": [
    {
     "data": {
      "text/plain": [
       "9.508032000695723"
      ]
     },
     "execution_count": 9,
     "metadata": {},
     "output_type": "execute_result"
    }
   ],
   "source": [
    "sigma[0]"
   ]
  },
  {
   "cell_type": "code",
   "execution_count": 10,
   "id": "06d81c09",
   "metadata": {},
   "outputs": [
    {
     "data": {
      "text/plain": [
       "array([[-0.42866713, -0.56630692, -0.7039467 ],\n",
       "       [ 0.80596391,  0.11238241, -0.58119908]])"
      ]
     },
     "execution_count": 10,
     "metadata": {},
     "output_type": "execute_result"
    }
   ],
   "source": [
    "VT"
   ]
  },
  {
   "cell_type": "code",
   "execution_count": 11,
   "id": "4ef3d40d",
   "metadata": {},
   "outputs": [],
   "source": [
    "U_1 = U[0]\n",
    "U_1 = U_1.reshape(2,1)"
   ]
  },
  {
   "cell_type": "code",
   "execution_count": 12,
   "id": "8f605493",
   "metadata": {},
   "outputs": [],
   "source": [
    "sigma_1 = sigma[0]\n",
    "sigma_1 = sigma_1.reshape(1,1)"
   ]
  },
  {
   "cell_type": "code",
   "execution_count": 13,
   "id": "8d9e69fc",
   "metadata": {},
   "outputs": [],
   "source": [
    "VT_1 = VT[0,:]\n",
    "VT_1 = VT_1.reshape(1,3)"
   ]
  },
  {
   "cell_type": "code",
   "execution_count": 14,
   "id": "35500138",
   "metadata": {},
   "outputs": [],
   "source": [
    "temp = np.dot(U_1,sigma_1)\n",
    "temp = temp.reshape(2,1)"
   ]
  },
  {
   "cell_type": "code",
   "execution_count": 15,
   "id": "a7ddc6af",
   "metadata": {},
   "outputs": [
    {
     "data": {
      "text/plain": [
       "array([[1.57454629, 2.08011388, 2.58568148],\n",
       "       [3.75936076, 4.96644562, 6.17353048]])"
      ]
     },
     "execution_count": 15,
     "metadata": {},
     "output_type": "execute_result"
    }
   ],
   "source": [
    "M_ = np.dot(temp, VT_1)\n",
    "M_"
   ]
  },
  {
   "cell_type": "code",
   "execution_count": null,
   "id": "f21bdb0b",
   "metadata": {},
   "outputs": [],
   "source": []
  }
 ],
 "metadata": {
  "kernelspec": {
   "display_name": "Python 3",
   "language": "python",
   "name": "python3"
  },
  "language_info": {
   "codemirror_mode": {
    "name": "ipython",
    "version": 3
   },
   "file_extension": ".py",
   "mimetype": "text/x-python",
   "name": "python",
   "nbconvert_exporter": "python",
   "pygments_lexer": "ipython3",
   "version": "3.8.2"
  }
 },
 "nbformat": 4,
 "nbformat_minor": 5
}
