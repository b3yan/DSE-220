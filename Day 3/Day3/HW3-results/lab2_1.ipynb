{
 "cells": [
  {
   "cell_type": "markdown",
   "id": "american-entity",
   "metadata": {},
   "source": [
    "## 1. Binary Perceptron"
   ]
  },
  {
   "cell_type": "code",
   "execution_count": 1,
   "id": "organized-medium",
   "metadata": {},
   "outputs": [],
   "source": [
    "%matplotlib inline\n",
    "import numpy as np\n",
    "import pandas as pd\n",
    "import matplotlib.pyplot as plt\n",
    "from sklearn import datasets \n",
    "from matplotlib.pyplot import figure\n",
    "import random"
   ]
  },
  {
   "cell_type": "markdown",
   "id": "martial-allen",
   "metadata": {},
   "source": [
    "### (a) Write code for two functions:\n",
    "    • The first function takes as input parameters w, b of a linear classifier as well as a data point x, and returns the label for that point: sign(w · x + b). The label is either +1 or −1.\n",
    "    • The second function takes as input an array of data points and an array of labels (where each label is +1 or −1), and runs the Perceptron algorithm to learn a linear classifier w,b. The algorithm should begin by randomly permuting the data points.\n",
    "    In your writeup, give the code for these two functions."
   ]
  },
  {
   "cell_type": "code",
   "execution_count": 2,
   "id": "quality-enough",
   "metadata": {},
   "outputs": [],
   "source": [
    "def predict(weights, bias, input):\n",
    "    a = np.sign(np.dot(np.transpose(weights), input) + bias)\n",
    "    if a >= 0:\n",
    "        label = 1\n",
    "    else:\n",
    "        label = -1\n",
    "    return label\n",
    "\n",
    "def train(inputs, labels):\n",
    "    n_samples, n_features = inputs.shape\n",
    "    \n",
    "    weights = np.zeros(n_features)\n",
    "    bias = 0.0\n",
    "    \n",
    "    while True:\n",
    "        errors = 0\n",
    "        for i in range(n_samples):\n",
    "            if (predict(weights, bias, inputs[i]) != labels[i]):\n",
    "                errors += 1\n",
    "                weights += labels[i] * inputs[i]\n",
    "                bias += labels[i]\n",
    "        if errors == 0:\n",
    "            break\n",
    "    return weights, bias"
   ]
  },
  {
   "cell_type": "markdown",
   "id": "persistent-aircraft",
   "metadata": {},
   "source": [
    "### (b) Load in the Iris data set.\n",
    "    The data has four features and three labels. Restrict it to features 1 and 3 (the second and fourth columns, sepal width and petal width) and to labels 0,1. Recode label 0 as −1, since this is what the Perceptron algorithm is expecting."
   ]
  },
  {
   "cell_type": "code",
   "execution_count": 3,
   "id": "administrative-silver",
   "metadata": {},
   "outputs": [],
   "source": [
    "iris = datasets.load_iris() \n",
    "x = iris.data\n",
    "y = iris.target"
   ]
  },
  {
   "cell_type": "code",
   "execution_count": 4,
   "id": "boxed-memorabilia",
   "metadata": {},
   "outputs": [
    {
     "data": {
      "text/plain": [
       "((100, 2), (100,))"
      ]
     },
     "execution_count": 4,
     "metadata": {},
     "output_type": "execute_result"
    }
   ],
   "source": [
    "x_inputs = x[0:100, [1, 3]]\n",
    "y_restrict = y[y != 2]\n",
    "y_labels = np.where(y_restrict == 0, -1, y_restrict)\n",
    "x_inputs.shape, y_labels.shape"
   ]
  },
  {
   "cell_type": "markdown",
   "id": "least-casino",
   "metadata": {},
   "source": [
    "### (c) Now run the Perceptron algorithm on the data. In your writeup, show a plot with the data points (where the two labels have different colors) and the resulting decision boundary."
   ]
  },
  {
   "cell_type": "code",
   "execution_count": 5,
   "id": "informed-quarterly",
   "metadata": {},
   "outputs": [],
   "source": [
    "weights, bias = train(x_inputs, y_labels)"
   ]
  },
  {
   "cell_type": "code",
   "execution_count": 6,
   "id": "hidden-horse",
   "metadata": {},
   "outputs": [
    {
     "data": {
      "text/plain": [
       "(array([-0.3,  1.2]), 0.0)"
      ]
     },
     "execution_count": 6,
     "metadata": {},
     "output_type": "execute_result"
    }
   ],
   "source": [
    "weights, bias"
   ]
  },
  {
   "cell_type": "code",
   "execution_count": 7,
   "id": "juvenile-parking",
   "metadata": {},
   "outputs": [
    {
     "name": "stdout",
     "output_type": "stream",
     "text": [
      "weights:  [-0.3  1.2]\n",
      "bias:  0.0\n",
      "classifier line: x2 = 0.24999999999999986*x1-0.0\n"
     ]
    }
   ],
   "source": [
    "slope = - weights[0]/weights[1]\n",
    "x2cut = - bias/weights[1]\n",
    "\n",
    "print('weights: ', weights)\n",
    "print('bias: ', bias)\n",
    "print('classifier line: x2 = %s*x1%s' % (slope, x2cut))"
   ]
  },
  {
   "cell_type": "code",
   "execution_count": 8,
   "id": "electrical-parks",
   "metadata": {},
   "outputs": [
    {
     "data": {
      "image/png": "[encoded data removed]",
      "text/plain": [
       "<Figure size 800x800 with 1 Axes>"
      ]
     },
     "metadata": {
      "needs_background": "light"
     },
     "output_type": "display_data"
    }
   ],
   "source": [
    "# Plot the data and the classification with the decision boundary.\n",
    "xmin, xmax = 1.5, 5\n",
    "ymin, ymax = -0.5, 2\n",
    "\n",
    "xd = np.array([xmin, xmax])\n",
    "yd = slope*xd + x2cut\n",
    "\n",
    "figure(figsize=(10, 10), dpi=80)\n",
    "\n",
    "plt.title('Decision boundary')\n",
    "plt.xlabel('X_1')\n",
    "plt.ylabel('X_2')\n",
    "\n",
    "plt.plot(xd, yd, 'r', lw=1, ls='--')\n",
    "\n",
    "plt.scatter(*x_inputs[:,[0,1]][y_labels==-1].T, s = 60, alpha = 0.9, marker = '*')\n",
    "plt.scatter(*x_inputs[:,[0,1]][y_labels==1].T, s = 60, alpha = 0.9, marker = '>')\n",
    "\n",
    "plt.xlim(xmin, xmax)\n",
    "plt.ylim(ymin, ymax)\n",
    "\n",
    "plt.show()"
   ]
  },
  {
   "cell_type": "markdown",
   "id": "imposed-virginia",
   "metadata": {},
   "source": [
    "### (d) Now modify your code from part (a) to count the number of updates made by the Perceptron algorithm while it is learning. Run the algorithm 20 times and keep track of the number of updates needed each time. In your writeup, include a histogram of these values."
   ]
  },
  {
   "cell_type": "code",
   "execution_count": 9,
   "id": "czech-terrain",
   "metadata": {},
   "outputs": [],
   "source": [
    "def train_d(inputs, labels):\n",
    "    n_samples, n_features = inputs.shape\n",
    "    weights = np.zeros(n_features)\n",
    "    bias = 0.0\n",
    "    n = 0\n",
    "    while True:\n",
    "        errors = 0\n",
    "        for i in range(n_samples):\n",
    "            if (predict(weights, bias, inputs[i]) != labels[i]):\n",
    "                errors += 1\n",
    "                weights += labels[i] * inputs[i]\n",
    "                bias += labels[i]\n",
    "                n += 1\n",
    "        if errors == 0:\n",
    "            break\n",
    "    return weights, bias, n"
   ]
  },
  {
   "cell_type": "code",
   "execution_count": 10,
   "id": "prompt-casting",
   "metadata": {},
   "outputs": [
    {
     "data": {
      "text/plain": [
       "[2, 4, 19, 19, 15, 2, 10, 15, 23, 2, 2, 11, 17, 19, 11, 16, 7, 13, 6, 17]"
      ]
     },
     "execution_count": 10,
     "metadata": {},
     "output_type": "execute_result"
    }
   ],
   "source": [
    "num = []\n",
    "\n",
    "for i in range(0, 20):\n",
    "    y_reshape = y_labels.reshape(100,1)\n",
    "\n",
    "    data=np.hstack((x_inputs,y_reshape))\n",
    "    np.random.shuffle(data)\n",
    "    \n",
    "    x_inputs_s = data[:, 0:2]\n",
    "    y_labels_s = data[:, -1]\n",
    "\n",
    "    weights_d, bias_d, n = train_d(x_inputs_s, y_labels_s)\n",
    "    num.append(n)\n",
    "num"
   ]
  },
  {
   "cell_type": "code",
   "execution_count": 11,
   "id": "historic-surname",
   "metadata": {},
   "outputs": [
    {
     "data": {
      "image/png": "[encoded data removed]",
      "text/plain": [
       "<Figure size 432x288 with 1 Axes>"
      ]
     },
     "metadata": {
      "needs_background": "light"
     },
     "output_type": "display_data"
    }
   ],
   "source": [
    "n_bins = 40\n",
    "x = num\n",
    "  \n",
    "plt.hist(x, n_bins, density = False, histtype = 'bar')\n",
    "plt.title('Histogram of the number of updates', fontweight = \"bold\")\n",
    "plt.grid()\n",
    "plt.show()"
   ]
  },
  {
   "cell_type": "code",
   "execution_count": null,
   "id": "christian-survivor",
   "metadata": {},
   "outputs": [],
   "source": []
  }
 ],
 "metadata": {
  "kernelspec": {
   "display_name": "Python 3",
   "language": "python",
   "name": "python3"
  },
  "language_info": {
   "codemirror_mode": {
    "name": "ipython",
    "version": 3
   },
   "file_extension": ".py",
   "mimetype": "text/x-python",
   "name": "python",
   "nbconvert_exporter": "python",
   "pygments_lexer": "ipython3",
   "version": "3.8.5"
  }
 },
 "nbformat": 4,
 "nbformat_minor": 5
}
