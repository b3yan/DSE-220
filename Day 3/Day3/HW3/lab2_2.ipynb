{
 "cells": [
  {
   "cell_type": "markdown",
   "id": "following-danish",
   "metadata": {},
   "source": [
    "## 2. Support vector machine"
   ]
  },
  {
   "cell_type": "code",
   "execution_count": 1,
   "id": "fancy-donor",
   "metadata": {},
   "outputs": [],
   "source": [
    "%matplotlib inline\n",
    "import numpy as np\n",
    "import pandas as pd\n",
    "import matplotlib.pyplot as plt \n",
    "from sklearn.svm import SVC"
   ]
  },
  {
   "cell_type": "markdown",
   "id": "expected-nomination",
   "metadata": {},
   "source": [
    "### (a) Is this data linearly separable?"
   ]
  },
  {
   "cell_type": "code",
   "execution_count": 2,
   "id": "portable-packing",
   "metadata": {},
   "outputs": [
    {
     "name": "stdout",
     "output_type": "stream",
     "text": [
      "Yes\n"
     ]
    }
   ],
   "source": [
    "print('Yes')"
   ]
  },
  {
   "cell_type": "markdown",
   "id": "lightweight-essay",
   "metadata": {},
   "source": [
    "### (b) Use sklearn.svm.SVC to fit a support vector machine classifier to the data. You will need to invoke the option kernel=’linear’. Try at least 10 different values of the slack parameter C. In your writeup, include a table that shows these values of C and for each of them gives the training error and the number of support vectors."
   ]
  },
  {
   "cell_type": "code",
   "execution_count": 3,
   "id": "coordinated-belief",
   "metadata": {},
   "outputs": [],
   "source": [
    "from sklearn import datasets \n",
    "iris = datasets.load_iris() \n",
    "x = iris.data\n",
    "y = iris.target"
   ]
  },
  {
   "cell_type": "code",
   "execution_count": 4,
   "id": "metric-confidence",
   "metadata": {},
   "outputs": [],
   "source": [
    "x_inputs_1 = x[:, [0, 2]]\n",
    "x_inputs = x_inputs_1[y!=0]\n",
    "y_labels = y[y!= 0]"
   ]
  },
  {
   "cell_type": "code",
   "execution_count": 5,
   "id": "directed-guinea",
   "metadata": {},
   "outputs": [
    {
     "data": {
      "text/html": [
       "<div>\n",
       "<style scoped>\n",
       "    .dataframe tbody tr th:only-of-type {\n",
       "        vertical-align: middle;\n",
       "    }\n",
       "\n",
       "    .dataframe tbody tr th {\n",
       "        vertical-align: top;\n",
       "    }\n",
       "\n",
       "    .dataframe thead th {\n",
       "        text-align: right;\n",
       "    }\n",
       "</style>\n",
       "<table border=\"1\" class=\"dataframe\">\n",
       "  <thead>\n",
       "    <tr style=\"text-align: right;\">\n",
       "      <th></th>\n",
       "      <th>C</th>\n",
       "      <th>Training Error</th>\n",
       "      <th>Number of support vectors</th>\n",
       "    </tr>\n",
       "  </thead>\n",
       "  <tbody>\n",
       "    <tr>\n",
       "      <th>0</th>\n",
       "      <td>1.000000e+02</td>\n",
       "      <td>0.05</td>\n",
       "      <td>[7, 7]</td>\n",
       "    </tr>\n",
       "    <tr>\n",
       "      <th>1</th>\n",
       "      <td>1.000000e+01</td>\n",
       "      <td>0.05</td>\n",
       "      <td>[9, 9]</td>\n",
       "    </tr>\n",
       "    <tr>\n",
       "      <th>2</th>\n",
       "      <td>1.000000e+00</td>\n",
       "      <td>0.07</td>\n",
       "      <td>[16, 15]</td>\n",
       "    </tr>\n",
       "    <tr>\n",
       "      <th>3</th>\n",
       "      <td>1.000000e-01</td>\n",
       "      <td>0.07</td>\n",
       "      <td>[28, 28]</td>\n",
       "    </tr>\n",
       "    <tr>\n",
       "      <th>4</th>\n",
       "      <td>1.000000e-03</td>\n",
       "      <td>0.17</td>\n",
       "      <td>[50, 50]</td>\n",
       "    </tr>\n",
       "    <tr>\n",
       "      <th>5</th>\n",
       "      <td>1.000000e-06</td>\n",
       "      <td>0.17</td>\n",
       "      <td>[50, 50]</td>\n",
       "    </tr>\n",
       "    <tr>\n",
       "      <th>6</th>\n",
       "      <td>1.000000e-09</td>\n",
       "      <td>0.17</td>\n",
       "      <td>[50, 50]</td>\n",
       "    </tr>\n",
       "    <tr>\n",
       "      <th>7</th>\n",
       "      <td>1.000000e-12</td>\n",
       "      <td>0.17</td>\n",
       "      <td>[50, 50]</td>\n",
       "    </tr>\n",
       "    <tr>\n",
       "      <th>8</th>\n",
       "      <td>1.000000e-15</td>\n",
       "      <td>0.16</td>\n",
       "      <td>[50, 50]</td>\n",
       "    </tr>\n",
       "    <tr>\n",
       "      <th>9</th>\n",
       "      <td>1.000000e-18</td>\n",
       "      <td>0.50</td>\n",
       "      <td>[50, 50]</td>\n",
       "    </tr>\n",
       "  </tbody>\n",
       "</table>\n",
       "</div>"
      ],
      "text/plain": [
       "              C  Training Error Number of support vectors\n",
       "0  1.000000e+02            0.05                    [7, 7]\n",
       "1  1.000000e+01            0.05                    [9, 9]\n",
       "2  1.000000e+00            0.07                  [16, 15]\n",
       "3  1.000000e-01            0.07                  [28, 28]\n",
       "4  1.000000e-03            0.17                  [50, 50]\n",
       "5  1.000000e-06            0.17                  [50, 50]\n",
       "6  1.000000e-09            0.17                  [50, 50]\n",
       "7  1.000000e-12            0.17                  [50, 50]\n",
       "8  1.000000e-15            0.16                  [50, 50]\n",
       "9  1.000000e-18            0.50                  [50, 50]"
      ]
     },
     "execution_count": 5,
     "metadata": {},
     "output_type": "execute_result"
    }
   ],
   "source": [
    "C_list = [100, 10, 1, 0.1, 0.001, 0.000001, 0.000000001 ,0.000000000001 ,0.000000000000001 ,0.000000000000000001]\n",
    "error_list = []\n",
    "num = []\n",
    "for C in C_list:\n",
    "    #print('\\nC =', C)\n",
    "    svc = SVC(kernel='linear', C=C).fit(x_inputs, y_labels)\n",
    "    error = 1- svc.score(x_inputs, y_labels)\n",
    "    #print('training_error =', error)\n",
    "    error_list.append(error)\n",
    "    num.append(svc.n_support_)\n",
    "    #print('number_of_support_vectors =', svc.n_support_)\n",
    "\n",
    "total_list = pd.DataFrame({'C' : C_list,\n",
    "                            'Training Error' : error_list,\n",
    "                            'Number of support vectors' : num }, \n",
    "                                columns=['C','Training Error', 'Number of support vectors'])\n",
    "total_list"
   ]
  },
  {
   "cell_type": "markdown",
   "id": "better-yacht",
   "metadata": {},
   "source": [
    "### (c) Which value of C do you think is best? For this value, include a plot of the data points and the linear decision boundary."
   ]
  },
  {
   "cell_type": "code",
   "execution_count": 6,
   "id": "mental-effectiveness",
   "metadata": {},
   "outputs": [
    {
     "name": "stdout",
     "output_type": "stream",
     "text": [
      "C = 1 is the best\n"
     ]
    }
   ],
   "source": [
    "print('C = 1 is the best')"
   ]
  },
  {
   "cell_type": "code",
   "execution_count": 7,
   "id": "unlikely-architecture",
   "metadata": {},
   "outputs": [
    {
     "data": {
      "image/png": "[encoded data removed]",
      "text/plain": [
       "<Figure size 800x800 with 1 Axes>"
      ]
     },
     "metadata": {
      "needs_background": "light"
     },
     "output_type": "display_data"
    }
   ],
   "source": [
    "clf = SVC(kernel='linear', C=1)\n",
    "clf.fit(x_inputs, y_labels)\n",
    "\n",
    "# Plot the data and the classification with the decision boundary.\n",
    "xmin, xmax = 4, 9\n",
    "ymin, ymax = 2, 8\n",
    "\n",
    "xd = np.array([xmin, xmax])\n",
    "\n",
    "weights1 = clf.coef_[0]\n",
    "bias1 = clf.intercept_[0]\n",
    "slope1 = - weights1[0]/weights1[1]\n",
    "x2cut1 = - bias1/weights1[1]\n",
    "yd1 = slope1*xd + x2cut1\n",
    "\n",
    "from matplotlib.pyplot import figure\n",
    "figure(figsize=(10, 10), dpi=80)\n",
    "\n",
    "plt.title('Decision boundary')\n",
    "plt.xlabel('X_1')\n",
    "plt.ylabel('X_2')\n",
    "\n",
    "plt.plot(xd, yd1, 'r', lw=2, ls='--')\n",
    "\n",
    "plt.scatter(*x_inputs[:,[0,1]][y_labels==1].T, s = 60, alpha = 0.9, marker = '*')\n",
    "plt.scatter(*x_inputs[:,[0,1]][y_labels==2].T, s = 60, alpha = 0.9, marker = '>')\n",
    "\n",
    "plt.xlim(xmin, xmax)\n",
    "plt.ylim(ymin, ymax)\n",
    "\n",
    "plt.grid()\n",
    "plt.show()"
   ]
  },
  {
   "cell_type": "code",
   "execution_count": null,
   "id": "interracial-grave",
   "metadata": {},
   "outputs": [],
   "source": []
  }
 ],
 "metadata": {
  "kernelspec": {
   "display_name": "Python 3",
   "language": "python",
   "name": "python3"
  },
  "language_info": {
   "codemirror_mode": {
    "name": "ipython",
    "version": 3
   },
   "file_extension": ".py",
   "mimetype": "text/x-python",
   "name": "python",
   "nbconvert_exporter": "python",
   "pygments_lexer": "ipython3",
   "version": "3.8.2"
  }
 },
 "nbformat": 4,
 "nbformat_minor": 5
}
