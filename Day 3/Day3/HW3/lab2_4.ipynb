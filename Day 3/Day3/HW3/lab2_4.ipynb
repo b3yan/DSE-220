{
 "cells": [
  {
   "cell_type": "markdown",
   "id": "available-advantage",
   "metadata": {},
   "source": [
    "## 4. Multiclass SVM"
   ]
  },
  {
   "cell_type": "code",
   "execution_count": 1,
   "id": "universal-knife",
   "metadata": {},
   "outputs": [],
   "source": [
    "%matplotlib inline\n",
    "import matplotlib.pyplot as plt\n",
    "import time\n",
    "import gzip\n",
    "import sys\n",
    "import os\n",
    "import copy\n",
    "import numpy as np\n",
    "import pandas as pd\n",
    "import pickle\n",
    "import string\n",
    "import operator\n",
    "import bz2\n",
    "import random\n",
    "from scipy import stats\n",
    "from scipy.cluster.hierarchy import dendrogram, linkage\n",
    "from sklearn.cluster import KMeans\n",
    "from sklearn.neighbors import BallTree\n",
    "from sklearn import metrics\n",
    "from sklearn.preprocessing import scale\n",
    "from pylab import rcParams\n",
    "from struct import unpack\n",
    "from scipy.stats import multivariate_normal\n",
    "from matplotlib.pyplot import figure\n",
    "from sklearn.linear_model import Perceptron\n",
    "from sklearn.svm import LinearSVC\n",
    "from sklearn.model_selection import GridSearchCV\n",
    "\n",
    "if sys.version_info[0] == 2:\n",
    "    from urllib import urlretrieve\n",
    "else:\n",
    "    from urllib.request import urlretrieve\n",
    "\n",
    "if not sys.warnoptions:\n",
    "    import warnings\n",
    "    warnings.simplefilter(\"ignore\")"
   ]
  },
  {
   "cell_type": "markdown",
   "id": "photographic-newton",
   "metadata": {},
   "source": [
    "#### (a) Load in the MNIST data: a training set of 60,000 points and a separate test set of 10,000 points.\n",
    "#### This will set x to a 60000 x 784 array where each row corresponds to an image, and y to a length-60000 array where each entry is a label (0-9). There is also a routine to display images: use displaychar(x[0]) to show the first data point, for instance."
   ]
  },
  {
   "cell_type": "code",
   "execution_count": 2,
   "id": "deadly-diamond",
   "metadata": {},
   "outputs": [],
   "source": [
    "def download(filename, source = 'http://yann.lecun.com/exdb/mnist/index.html'):\n",
    "    print(\"Downloading %s\" % filename)\n",
    "    urlretrieve(source + filename, filename)\n",
    "    \n",
    "def load_mnist_images(filename):\n",
    "    if not os.path.exists(filename):\n",
    "        download(filename)\n",
    "    # Read the inputs in Yann LeCun's binary format.\n",
    "    with gzip.open(filename, 'rb') as f:\n",
    "        data = np.frombuffer(f.read(), np.uint8, offset = 16)\n",
    "    data = data.reshape(-1,784)\n",
    "    return data / np.float32(256)\n",
    "\n",
    "def load_mnist_labels(filename):\n",
    "    if not os.path.exists(filename):\n",
    "        download(filename)\n",
    "    with gzip.open(filename, 'rb') as f:\n",
    "        data = np.frombuffer(f.read(), np.uint8, offset = 8)\n",
    "    return data\n",
    "\n",
    "def displaychar(image):\n",
    "    plt.imshow(np.reshape(image, (28,28)), cmap=plt.cm.gray)\n",
    "    plt.axis('off')\n",
    "    plt.show()"
   ]
  },
  {
   "cell_type": "code",
   "execution_count": 3,
   "id": "educational-settlement",
   "metadata": {},
   "outputs": [
    {
     "name": "stdout",
     "output_type": "stream",
     "text": [
      "Shape of the train data:\n",
      " (60000, 784)\n",
      "\n",
      "Shape of the train labels:\n",
      " (60000,)\n"
     ]
    }
   ],
   "source": [
    "# Load the training data set\n",
    "train_data = load_mnist_images('train-images-idx3-ubyte.gz')\n",
    "train_labels = load_mnist_labels('train-labels-idx1-ubyte.gz')\n",
    "\n",
    "print('Shape of the train data:\\n', train_data.shape)\n",
    "print('\\nShape of the train labels:\\n', train_labels.shape)"
   ]
  },
  {
   "cell_type": "code",
   "execution_count": 4,
   "id": "rational-conditioning",
   "metadata": {},
   "outputs": [
    {
     "name": "stdout",
     "output_type": "stream",
     "text": [
      "Shape of the test data:\n",
      " (10000, 784)\n",
      "\n",
      "Shape of the test labels:\n",
      " (10000,)\n"
     ]
    }
   ],
   "source": [
    "# Load the testing data set\n",
    "test_data = load_mnist_images('t10k-images-idx3-ubyte.gz')\n",
    "test_labels = load_mnist_labels('t10k-labels-idx1-ubyte.gz')\n",
    "\n",
    "print('Shape of the test data:\\n', test_data.shape)\n",
    "print('\\nShape of the test labels:\\n', test_labels.shape)"
   ]
  },
  {
   "cell_type": "markdown",
   "id": "essential-fruit",
   "metadata": {},
   "source": [
    "### (b) Learn a linear SVM classifier using sklearn.svm.LinearSVC. You will need to see loss=’hinge’. How can you choose a suitable value of C? Explain your methodology."
   ]
  },
  {
   "cell_type": "code",
   "execution_count": 5,
   "id": "interior-might",
   "metadata": {},
   "outputs": [
    {
     "data": {
      "text/plain": [
       "LinearSVC(loss='hinge', random_state=42, tol=1e-05)"
      ]
     },
     "execution_count": 5,
     "metadata": {},
     "output_type": "execute_result"
    }
   ],
   "source": [
    "clf_train = LinearSVC(C = 1.0, loss = 'hinge', random_state = 42, tol = 1e-05)\n",
    "clf_train.fit(train_data, train_labels)"
   ]
  },
  {
   "cell_type": "code",
   "execution_count": 6,
   "id": "greater-orbit",
   "metadata": {},
   "outputs": [
    {
     "data": {
      "text/plain": [
       "0.9294666666666667"
      ]
     },
     "execution_count": 6,
     "metadata": {},
     "output_type": "execute_result"
    }
   ],
   "source": [
    "clf_train.score(train_data, train_labels)"
   ]
  },
  {
   "cell_type": "code",
   "execution_count": 7,
   "id": "intermediate-advocate",
   "metadata": {},
   "outputs": [
    {
     "name": "stdout",
     "output_type": "stream",
     "text": [
      "The best C is:  {'C': 1}\n",
      "LinearSVC(C=1, loss='hinge', random_state=42, tol=1e-05)\n"
     ]
    }
   ],
   "source": [
    "# choose a suitable value of C\n",
    "parameters = {'C':[1e-5, 0.01, 0.1, 1, 10, 100, 1000]}\n",
    "clf_c = LinearSVC(loss = 'hinge', random_state = 42, tol = 1e-05)\n",
    "clf_c = GridSearchCV(clf_c, parameters)\n",
    "clf_c.fit(train_data, train_labels)\n",
    "sorted(clf_c.cv_results_.keys())\n",
    "# print best parameter after tuning\n",
    "print('The best C is: ',clf_c.best_params_)\n",
    "  \n",
    "# print how our model looks after hyper-parameter tuning\n",
    "print(clf_c.best_estimator_)"
   ]
  },
  {
   "cell_type": "markdown",
   "id": "honest-charlotte",
   "metadata": {},
   "source": [
    "### (c) Report the final test error. Is this data linearly separable?"
   ]
  },
  {
   "cell_type": "code",
   "execution_count": 8,
   "id": "manufactured-polls",
   "metadata": {},
   "outputs": [
    {
     "data": {
      "text/plain": [
       "(0.922, 0.07799999999999996)"
      ]
     },
     "execution_count": 8,
     "metadata": {},
     "output_type": "execute_result"
    }
   ],
   "source": [
    "clf = LinearSVC(C = 1, loss = 'hinge', random_state = 42, tol = 1e-05)\n",
    "clf.fit(train_data, train_labels)\n",
    "score = clf.score(test_data, test_labels)\n",
    "error = 1 - clf.score(test_data, test_labels)\n",
    "score, error"
   ]
  },
  {
   "cell_type": "code",
   "execution_count": 9,
   "id": "returning-reservoir",
   "metadata": {},
   "outputs": [
    {
     "name": "stdout",
     "output_type": "stream",
     "text": [
      "The test error is: 0.07799999999999996\n"
     ]
    }
   ],
   "source": [
    "print('The test error is:', error)"
   ]
  },
  {
   "cell_type": "code",
   "execution_count": 12,
   "id": "christian-craps",
   "metadata": {},
   "outputs": [
    {
     "name": "stdout",
     "output_type": "stream",
     "text": [
      "Since this is not converged and the dataset has more than 2 target values, the dataset is non-linearly separable.\n"
     ]
    }
   ],
   "source": [
    "print('Since this is not converged and the dataset has more than 2 target values, the dataset is non-linearly separable.')"
   ]
  },
  {
   "cell_type": "code",
   "execution_count": null,
   "id": "posted-ordering",
   "metadata": {},
   "outputs": [],
   "source": []
  }
 ],
 "metadata": {
  "kernelspec": {
   "display_name": "Python 3",
   "language": "python",
   "name": "python3"
  },
  "language_info": {
   "codemirror_mode": {
    "name": "ipython",
    "version": 3
   },
   "file_extension": ".py",
   "mimetype": "text/x-python",
   "name": "python",
   "nbconvert_exporter": "python",
   "pygments_lexer": "ipython3",
   "version": "3.8.2"
  }
 },
 "nbformat": 4,
 "nbformat_minor": 5
}
