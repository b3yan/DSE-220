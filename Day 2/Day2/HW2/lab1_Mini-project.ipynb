{
 "cells": [
  {
   "cell_type": "markdown",
   "id": "ranging-champagne",
   "metadata": {},
   "source": [
    "## 4. Mini-project: Coordinate descent"
   ]
  },
  {
   "cell_type": "code",
   "execution_count": 1,
   "id": "novel-coordination",
   "metadata": {},
   "outputs": [],
   "source": [
    "%matplotlib inline\n",
    "import numpy as np\n",
    "import matplotlib.pyplot as plt \n",
    "import time\n",
    "import pandas as pd\n",
    "from pandas import read_csv\n",
    "from sklearn.model_selection import train_test_split\n",
    "from sklearn.metrics import confusion_matrix\n",
    "from sklearn.model_selection import KFold\n",
    "from sklearn.metrics import accuracy_score as acc\n",
    "from sklearn.model_selection import LeaveOneOut\n",
    "from sklearn.neighbors import KNeighborsClassifier\n",
    "import matplotlib\n",
    "from sklearn.preprocessing import MinMaxScaler\n",
    "from sklearn.linear_model import LogisticRegression\n",
    "from mlxtend.feature_selection import SequentialFeatureSelector as sfs\n",
    "from sklearn.model_selection import cross_val_score\n",
    "from sklearn.metrics import log_loss\n",
    "import sys\n",
    "\n",
    "if not sys.warnoptions:\n",
    "    import warnings\n",
    "    warnings.simplefilter(\"ignore\")"
   ]
  },
  {
   "cell_type": "code",
   "execution_count": 2,
   "id": "offshore-opening",
   "metadata": {},
   "outputs": [
    {
     "data": {
      "text/html": [
       "<div>\n",
       "<style scoped>\n",
       "    .dataframe tbody tr th:only-of-type {\n",
       "        vertical-align: middle;\n",
       "    }\n",
       "\n",
       "    .dataframe tbody tr th {\n",
       "        vertical-align: top;\n",
       "    }\n",
       "\n",
       "    .dataframe thead th {\n",
       "        text-align: right;\n",
       "    }\n",
       "</style>\n",
       "<table border=\"1\" class=\"dataframe\">\n",
       "  <thead>\n",
       "    <tr style=\"text-align: right;\">\n",
       "      <th></th>\n",
       "      <th>age</th>\n",
       "      <th>sex</th>\n",
       "      <th>cp</th>\n",
       "      <th>trestbps</th>\n",
       "      <th>chol</th>\n",
       "      <th>fbs</th>\n",
       "      <th>restecg</th>\n",
       "      <th>thalach</th>\n",
       "      <th>exang</th>\n",
       "      <th>oldpeak</th>\n",
       "      <th>slope</th>\n",
       "      <th>ca</th>\n",
       "      <th>thal</th>\n",
       "      <th>target</th>\n",
       "    </tr>\n",
       "  </thead>\n",
       "  <tbody>\n",
       "    <tr>\n",
       "      <th>0</th>\n",
       "      <td>63</td>\n",
       "      <td>1</td>\n",
       "      <td>3</td>\n",
       "      <td>145</td>\n",
       "      <td>233</td>\n",
       "      <td>1</td>\n",
       "      <td>0</td>\n",
       "      <td>150</td>\n",
       "      <td>0</td>\n",
       "      <td>2.3</td>\n",
       "      <td>0</td>\n",
       "      <td>0</td>\n",
       "      <td>1</td>\n",
       "      <td>1</td>\n",
       "    </tr>\n",
       "    <tr>\n",
       "      <th>1</th>\n",
       "      <td>37</td>\n",
       "      <td>1</td>\n",
       "      <td>2</td>\n",
       "      <td>130</td>\n",
       "      <td>250</td>\n",
       "      <td>0</td>\n",
       "      <td>1</td>\n",
       "      <td>187</td>\n",
       "      <td>0</td>\n",
       "      <td>3.5</td>\n",
       "      <td>0</td>\n",
       "      <td>0</td>\n",
       "      <td>2</td>\n",
       "      <td>1</td>\n",
       "    </tr>\n",
       "    <tr>\n",
       "      <th>2</th>\n",
       "      <td>41</td>\n",
       "      <td>0</td>\n",
       "      <td>1</td>\n",
       "      <td>130</td>\n",
       "      <td>204</td>\n",
       "      <td>0</td>\n",
       "      <td>0</td>\n",
       "      <td>172</td>\n",
       "      <td>0</td>\n",
       "      <td>1.4</td>\n",
       "      <td>2</td>\n",
       "      <td>0</td>\n",
       "      <td>2</td>\n",
       "      <td>1</td>\n",
       "    </tr>\n",
       "    <tr>\n",
       "      <th>3</th>\n",
       "      <td>56</td>\n",
       "      <td>1</td>\n",
       "      <td>1</td>\n",
       "      <td>120</td>\n",
       "      <td>236</td>\n",
       "      <td>0</td>\n",
       "      <td>1</td>\n",
       "      <td>178</td>\n",
       "      <td>0</td>\n",
       "      <td>0.8</td>\n",
       "      <td>2</td>\n",
       "      <td>0</td>\n",
       "      <td>2</td>\n",
       "      <td>1</td>\n",
       "    </tr>\n",
       "    <tr>\n",
       "      <th>4</th>\n",
       "      <td>57</td>\n",
       "      <td>0</td>\n",
       "      <td>0</td>\n",
       "      <td>120</td>\n",
       "      <td>354</td>\n",
       "      <td>0</td>\n",
       "      <td>1</td>\n",
       "      <td>163</td>\n",
       "      <td>1</td>\n",
       "      <td>0.6</td>\n",
       "      <td>2</td>\n",
       "      <td>0</td>\n",
       "      <td>2</td>\n",
       "      <td>1</td>\n",
       "    </tr>\n",
       "    <tr>\n",
       "      <th>...</th>\n",
       "      <td>...</td>\n",
       "      <td>...</td>\n",
       "      <td>...</td>\n",
       "      <td>...</td>\n",
       "      <td>...</td>\n",
       "      <td>...</td>\n",
       "      <td>...</td>\n",
       "      <td>...</td>\n",
       "      <td>...</td>\n",
       "      <td>...</td>\n",
       "      <td>...</td>\n",
       "      <td>...</td>\n",
       "      <td>...</td>\n",
       "      <td>...</td>\n",
       "    </tr>\n",
       "    <tr>\n",
       "      <th>298</th>\n",
       "      <td>57</td>\n",
       "      <td>0</td>\n",
       "      <td>0</td>\n",
       "      <td>140</td>\n",
       "      <td>241</td>\n",
       "      <td>0</td>\n",
       "      <td>1</td>\n",
       "      <td>123</td>\n",
       "      <td>1</td>\n",
       "      <td>0.2</td>\n",
       "      <td>1</td>\n",
       "      <td>0</td>\n",
       "      <td>3</td>\n",
       "      <td>0</td>\n",
       "    </tr>\n",
       "    <tr>\n",
       "      <th>299</th>\n",
       "      <td>45</td>\n",
       "      <td>1</td>\n",
       "      <td>3</td>\n",
       "      <td>110</td>\n",
       "      <td>264</td>\n",
       "      <td>0</td>\n",
       "      <td>1</td>\n",
       "      <td>132</td>\n",
       "      <td>0</td>\n",
       "      <td>1.2</td>\n",
       "      <td>1</td>\n",
       "      <td>0</td>\n",
       "      <td>3</td>\n",
       "      <td>0</td>\n",
       "    </tr>\n",
       "    <tr>\n",
       "      <th>300</th>\n",
       "      <td>68</td>\n",
       "      <td>1</td>\n",
       "      <td>0</td>\n",
       "      <td>144</td>\n",
       "      <td>193</td>\n",
       "      <td>1</td>\n",
       "      <td>1</td>\n",
       "      <td>141</td>\n",
       "      <td>0</td>\n",
       "      <td>3.4</td>\n",
       "      <td>1</td>\n",
       "      <td>2</td>\n",
       "      <td>3</td>\n",
       "      <td>0</td>\n",
       "    </tr>\n",
       "    <tr>\n",
       "      <th>301</th>\n",
       "      <td>57</td>\n",
       "      <td>1</td>\n",
       "      <td>0</td>\n",
       "      <td>130</td>\n",
       "      <td>131</td>\n",
       "      <td>0</td>\n",
       "      <td>1</td>\n",
       "      <td>115</td>\n",
       "      <td>1</td>\n",
       "      <td>1.2</td>\n",
       "      <td>1</td>\n",
       "      <td>1</td>\n",
       "      <td>3</td>\n",
       "      <td>0</td>\n",
       "    </tr>\n",
       "    <tr>\n",
       "      <th>302</th>\n",
       "      <td>57</td>\n",
       "      <td>0</td>\n",
       "      <td>1</td>\n",
       "      <td>130</td>\n",
       "      <td>236</td>\n",
       "      <td>0</td>\n",
       "      <td>0</td>\n",
       "      <td>174</td>\n",
       "      <td>0</td>\n",
       "      <td>0.0</td>\n",
       "      <td>1</td>\n",
       "      <td>1</td>\n",
       "      <td>2</td>\n",
       "      <td>0</td>\n",
       "    </tr>\n",
       "  </tbody>\n",
       "</table>\n",
       "<p>303 rows × 14 columns</p>\n",
       "</div>"
      ],
      "text/plain": [
       "     age  sex  cp  trestbps  chol  fbs  restecg  thalach  exang  oldpeak  \\\n",
       "0     63    1   3       145   233    1        0      150      0      2.3   \n",
       "1     37    1   2       130   250    0        1      187      0      3.5   \n",
       "2     41    0   1       130   204    0        0      172      0      1.4   \n",
       "3     56    1   1       120   236    0        1      178      0      0.8   \n",
       "4     57    0   0       120   354    0        1      163      1      0.6   \n",
       "..   ...  ...  ..       ...   ...  ...      ...      ...    ...      ...   \n",
       "298   57    0   0       140   241    0        1      123      1      0.2   \n",
       "299   45    1   3       110   264    0        1      132      0      1.2   \n",
       "300   68    1   0       144   193    1        1      141      0      3.4   \n",
       "301   57    1   0       130   131    0        1      115      1      1.2   \n",
       "302   57    0   1       130   236    0        0      174      0      0.0   \n",
       "\n",
       "     slope  ca  thal  target  \n",
       "0        0   0     1       1  \n",
       "1        0   0     2       1  \n",
       "2        2   0     2       1  \n",
       "3        2   0     2       1  \n",
       "4        2   0     2       1  \n",
       "..     ...  ..   ...     ...  \n",
       "298      1   0     3       0  \n",
       "299      1   0     3       0  \n",
       "300      1   2     3       0  \n",
       "301      1   1     3       0  \n",
       "302      1   1     2       0  \n",
       "\n",
       "[303 rows x 14 columns]"
      ]
     },
     "execution_count": 2,
     "metadata": {},
     "output_type": "execute_result"
    }
   ],
   "source": [
    "dataframe = read_csv('heart.csv')\n",
    "dataframe"
   ]
  },
  {
   "cell_type": "code",
   "execution_count": 3,
   "id": "elect-trustee",
   "metadata": {},
   "outputs": [],
   "source": [
    "# Separate features from labels \n",
    "data = dataframe.values\n",
    "X, y = data[:, :-1], data[:, -1]"
   ]
  },
  {
   "cell_type": "markdown",
   "id": "above-globe",
   "metadata": {},
   "source": [
    "### (a) A short, high-level description of your coordinate descent method.\n",
    "###     In particular, you should give a concise description of how you solve problems (i) and (ii) above. Do you need the function L(·) to be differentiable, or does it work with any loss function?"
   ]
  },
  {
   "cell_type": "markdown",
   "id": "finished-december",
   "metadata": {},
   "source": [
    "### (i) Which coordinate to choose?"
   ]
  },
  {
   "cell_type": "markdown",
   "id": "representative-premium",
   "metadata": {},
   "source": [
    "#### Answer: We will choose the coordinate that minimize the wi by running all coordinates in cyclic order at each iteration."
   ]
  },
  {
   "cell_type": "markdown",
   "id": "interested-picture",
   "metadata": {},
   "source": [
    "### (ii) How to set the new value of wi?"
   ]
  },
  {
   "cell_type": "markdown",
   "id": "refined-organ",
   "metadata": {},
   "source": [
    "#### Answer: For setting the new value of wi, we will use the current value of wi subtract value of the stepsize times gradient."
   ]
  },
  {
   "cell_type": "markdown",
   "id": "editorial-party",
   "metadata": {},
   "source": [
    "### Do you need the function L(·) to be differentiable, or does it work with any loss function?"
   ]
  },
  {
   "cell_type": "markdown",
   "id": "skilled-copper",
   "metadata": {},
   "source": [
    "#### Answer: Yes, the function L(·) needs to be differentiable and convex."
   ]
  },
  {
   "cell_type": "markdown",
   "id": "scenic-practice",
   "metadata": {},
   "source": [
    "### Summary of the coordinate descent method"
   ]
  },
  {
   "cell_type": "markdown",
   "id": "exact-owner",
   "metadata": {},
   "source": [
    "#### Answer: For the loss function, we will minimize it by minimizing each of the individual dimensions of it in a cyclic fashion, while holding the values of it in the other dimensions fixed."
   ]
  },
  {
   "cell_type": "markdown",
   "id": "heavy-gateway",
   "metadata": {},
   "source": [
    "### (b) Convergence.\n",
    "### Under what conditions do you think your method converges to the optimal loss? There’s no need to prove anything: just give a few sentences of brief explanation."
   ]
  },
  {
   "cell_type": "markdown",
   "id": "christian-wagon",
   "metadata": {},
   "source": [
    "#### Answer: After minimizing the cost function with respect to each coordinate, the cost function has bounded level sets and is in some sense strictly convex."
   ]
  },
  {
   "cell_type": "markdown",
   "id": "minor-tissue",
   "metadata": {},
   "source": [
    "### (c) Experimental results."
   ]
  },
  {
   "cell_type": "markdown",
   "id": "christian-plant",
   "metadata": {},
   "source": [
    "#### Begin by running a standard logistic regression solver (e.g., from scikit-learn) on the training set. It should not be regularized: if the solver forces you to do this, just set the regularization constant suitably to make it irrelevant. Make note of the final loss L∗."
   ]
  },
  {
   "cell_type": "code",
   "execution_count": 4,
   "id": "monetary-violin",
   "metadata": {},
   "outputs": [
    {
     "name": "stdout",
     "output_type": "stream",
     "text": [
      "Final loss\n",
      " L* = 0.3534163611333882\n"
     ]
    }
   ],
   "source": [
    "# Build logistic regression classifier\n",
    "clf = LogisticRegression(random_state = 42).fit(X, y)\n",
    "proba = clf.predict_proba(X)\n",
    "log_loss_value = log_loss(y, proba)\n",
    "print('Final loss\\n L* =', log_loss_value)"
   ]
  },
  {
   "cell_type": "code",
   "execution_count": 5,
   "id": "casual-aerospace",
   "metadata": {},
   "outputs": [
    {
     "data": {
      "text/plain": [
       "(303, 14)"
      ]
     },
     "execution_count": 5,
     "metadata": {},
     "output_type": "execute_result"
    }
   ],
   "source": [
    "# normalize data\n",
    "X_normalize = (X - np.mean(X,axis = 0))/(np.max(X, axis = 0) - np.min(X, axis = 0))\n",
    "intercept = np.ones((X.shape[0], 1))\n",
    "intercept = intercept.reshape(X.shape[0], 1)\n",
    "X_norm = np.hstack((X_normalize, intercept))\n",
    "X_norm.shape"
   ]
  },
  {
   "cell_type": "markdown",
   "id": "italic-family",
   "metadata": {},
   "source": [
    "#### Then, implement your coordinate descent method and run it on this data."
   ]
  },
  {
   "cell_type": "code",
   "execution_count": 6,
   "id": "sorted-madonna",
   "metadata": {},
   "outputs": [],
   "source": [
    "# predict y\n",
    "def predict_function(w, x):\n",
    "    return 1/(1 + (np.exp(-(np.dot(w.T, x.T)))))\n",
    "\n",
    "# calculate the loss\n",
    "def loss_function(x, y, y_predict):\n",
    "    return -(1/x.shape[0]) * np.sum(y * np.log(y_predict) + (1 - y) * np.log(1 - y_predict))\n",
    "\n",
    "# calculate gradient\n",
    "def gradient_function(x, y, y_predict):\n",
    "    return list(np.dot((y_predict-y), x)[0])"
   ]
  },
  {
   "cell_type": "code",
   "execution_count": 7,
   "id": "buried-collins",
   "metadata": {},
   "outputs": [],
   "source": [
    "# calculate the loss by using the coordinate descent method\n",
    "def coordinate_descent(x, y, iteration, etha):\n",
    "    w = np.zeros((x.shape[1],1))\n",
    "    index = 0\n",
    "    loss = []\n",
    "    n = (x.shape[1] - 1)\n",
    "    \n",
    "    for i in range(iteration):\n",
    "        y_predict = predict_function(w, x)\n",
    "        gradient = gradient_function(x, y, y_predict)\n",
    "        w[index%n] = w[index%n] - etha*gradient[index%n]\n",
    "        index += 1     \n",
    "        loss.append(loss_function(x, y, y_predict))  \n",
    "    return loss"
   ]
  },
  {
   "cell_type": "code",
   "execution_count": 8,
   "id": "qualified-region",
   "metadata": {},
   "outputs": [
    {
     "name": "stdout",
     "output_type": "stream",
     "text": [
      "The minimum loss about the coordinate descent is:\n",
      " 0.35857565006240405\n"
     ]
    }
   ],
   "source": [
    "loss_coordinate_descent = coordinate_descent(X_norm, y, 1000, 0.01)\n",
    "print('The minimum loss about the coordinate descent is:\\n', min(loss_coordinate_descent))"
   ]
  },
  {
   "cell_type": "markdown",
   "id": "former-benefit",
   "metadata": {},
   "source": [
    "#### Finally, compare to a method that chooses coordinates i uniformly at random and then updates wi using your method (we’ll call this “random-feature coordinate descent”)."
   ]
  },
  {
   "cell_type": "code",
   "execution_count": 9,
   "id": "comfortable-caution",
   "metadata": {},
   "outputs": [],
   "source": [
    "def random_coordinate_descent(x, y, number_iteration, etha):\n",
    "    w = np.zeros((x.shape[1],1))\n",
    "    loss = [] \n",
    "    n = (x.shape[1] - 1)\n",
    "    \n",
    "    for i in range(number_iteration):\n",
    "        y_predict = predict_function(w, x)\n",
    "        gradient = gradient_function(x, y, y_predict)\n",
    "        current_index = np.random.randint(0,n)\n",
    "        w[current_index] = w[current_index] - etha*gradient[current_index] \n",
    "        loss.append(loss_function(x, y, y_predict))  \n",
    "    return loss"
   ]
  },
  {
   "cell_type": "code",
   "execution_count": 10,
   "id": "capable-holmes",
   "metadata": {},
   "outputs": [
    {
     "name": "stdout",
     "output_type": "stream",
     "text": [
      "The minimum loss about the coordinate descent is:\n",
      " 0.35817122582262023\n"
     ]
    }
   ],
   "source": [
    "loss_random_coordinate_descent = random_coordinate_descent(X_norm, y, 1000, 0.01)\n",
    "print('The minimum loss about the coordinate descent is:\\n', min(loss_random_coordinate_descent))"
   ]
  },
  {
   "cell_type": "markdown",
   "id": "governmental-answer",
   "metadata": {},
   "source": [
    "#### Produce a clearly-labeled graph that shows how the loss of your algorithm’s current iterate— that is, L(wt)—decreases with t; it should asymptote to L∗. On the same graph, show the corresponding curve for random-feature coordinate descent."
   ]
  },
  {
   "cell_type": "code",
   "execution_count": 11,
   "id": "mexican-destruction",
   "metadata": {},
   "outputs": [
    {
     "data": {
      "image/png": "[encoded data removed]",
      "text/plain": [
       "<Figure size 432x288 with 1 Axes>"
      ]
     },
     "metadata": {
      "needs_background": "light"
     },
     "output_type": "display_data"
    }
   ],
   "source": [
    "iteration = np.arange(0,1000)\n",
    "plt.xlabel('Iteration number')\n",
    "plt.ylabel('Loss value')\n",
    "plt.title('Coordinate Gradient')\n",
    "plt.plot(iteration, loss_coordinate_descent, label = 'coordinate descent iteration error')\n",
    "plt.plot(iteration, loss_random_coordinate_descent, label = 'random coordinate descent iteration error')\n",
    "plt.legend()\n",
    "plt.grid()\n",
    "plt.show()"
   ]
  }
 ],
 "metadata": {
  "kernelspec": {
   "display_name": "Python 3",
   "language": "python",
   "name": "python3"
  },
  "language_info": {
   "codemirror_mode": {
    "name": "ipython",
    "version": 3
   },
   "file_extension": ".py",
   "mimetype": "text/x-python",
   "name": "python",
   "nbconvert_exporter": "python",
   "pygments_lexer": "ipython3",
   "version": "3.8.2"
  }
 },
 "nbformat": 4,
 "nbformat_minor": 5
}
